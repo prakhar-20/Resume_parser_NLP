{
  "nbformat": 4,
  "nbformat_minor": 0,
  "metadata": {
    "colab": {
      "provenance": []
    },
    "kernelspec": {
      "name": "python3",
      "display_name": "Python 3"
    },
    "language_info": {
      "name": "python"
    }
  },
  "cells": [
    {
      "cell_type": "code",
      "source": [
        "pip install PyPDF2"
      ],
      "metadata": {
        "colab": {
          "base_uri": "https://localhost:8080/"
        },
        "id": "h_4--mhEo0aA",
        "outputId": "7aa15501-bebd-44eb-d145-4c0928ee530e"
      },
      "execution_count": 2,
      "outputs": [
        {
          "output_type": "stream",
          "name": "stdout",
          "text": [
            "Looking in indexes: https://pypi.org/simple, https://us-python.pkg.dev/colab-wheels/public/simple/\n",
            "Collecting PyPDF2\n",
            "  Downloading pypdf2-3.0.1-py3-none-any.whl (232 kB)\n",
            "\u001b[2K     \u001b[90m━━━━━━━━━━━━━━━━━━━━━━━━━━━━━━━━━━━━━━━\u001b[0m \u001b[32m232.6/232.6 kB\u001b[0m \u001b[31m7.5 MB/s\u001b[0m eta \u001b[36m0:00:00\u001b[0m\n",
            "\u001b[?25hInstalling collected packages: PyPDF2\n",
            "Successfully installed PyPDF2-3.0.1\n"
          ]
        }
      ]
    },
    {
      "cell_type": "code",
      "execution_count": 5,
      "metadata": {
        "colab": {
          "base_uri": "https://localhost:8080/"
        },
        "id": "TgQ4283QoxtX",
        "outputId": "3d19598a-ce70-412d-bbd6-1e05f2f41f08"
      },
      "outputs": [
        {
          "output_type": "stream",
          "name": "stderr",
          "text": [
            "[nltk_data] Downloading package punkt to /root/nltk_data...\n",
            "[nltk_data]   Package punkt is already up-to-date!\n"
          ]
        }
      ],
      "source": [
        "import PyPDF2\n",
        "import re\n",
        "import spacy\n",
        "import nltk\n",
        "from nltk.tokenize import sent_tokenize, word_tokenize\n",
        "from nltk.corpus import stopwords\n",
        "nltk.download('punkt')\n",
        "# Load the spaCy English model\n",
        "nlp = spacy.load('en_core_web_sm')\n",
        "def extract_text_from_pdf(file_path):\n",
        "    with open(file_path, 'rb') as file:\n",
        "        reader = PyPDF2.PdfReader(file)\n",
        "        text = ''\n",
        "        for page_num in range(len(reader.pages)):\n",
        "            page = reader.pages[page_num]\n",
        "            text += page.extract_text()\n",
        "        return text\n",
        "def extract_name(text):\n",
        "    pattern = r'\\b[A-Z][a-z]+\\s[A-Z][a-z]+\\b'\n",
        "    matches = re.findall(pattern, text)\n",
        "    if matches:\n",
        "        return matches[0]\n",
        "    return None\n",
        "\n",
        "def extract_email(text):\n",
        "    pattern = r'\\b[A-Za-z0-9._%+-]+@[A-Za-z0-9.-]+\\.[A-Z|a-z]{2,}\\b'\n",
        "    matches = re.findall(pattern, text)\n",
        "    if matches:\n",
        "        return matches[0]\n",
        "    return None\n",
        "\n",
        "def extract_phone_number(text):\n",
        "    pattern = r'\\b\\d{3}[-.]?\\d{3}[-.]?\\d{4}\\b'\n",
        "    #pattern = r'^(?:(?:\\+|0{0,2})91(\\s*[\\ -]\\s*)?|[0]?)?[789]\\d{9}|(\\d[ -]?){10}\\d$'\n",
        "    matches = re.findall(pattern, text)\n",
        "    if matches:\n",
        "        return matches[0]\n",
        "    return None\n",
        "# Function to extract entities from resume text\n",
        "def extract_entities(text):\n",
        "    doc = nlp(text)\n",
        "    entities = []\n",
        "    for ent in doc.ents:\n",
        "        if ent.label_ in ['PERSON', 'ORG', 'EMAIL', 'PHONE']:\n",
        "            entities.append((ent.text, ent.label_))\n",
        "    return entities\n",
        "def extract_work_experience(text):\n",
        "    sentences = sent_tokenize(text)\n",
        "    experience = []\n",
        "    for sentence in sentences:\n",
        "        if 'experience' in sentence.lower():\n",
        "            experience.append(sentence)\n",
        "    return experience\n",
        "\n",
        "# Example usage\n"
      ]
    },
    {
      "cell_type": "code",
      "source": [
        "resume_file_path = 'sample_resume.pdf'\n",
        "resume_text = extract_text_from_pdf(resume_file_path)\n",
        "name = extract_name(resume_text)\n",
        "email = extract_email(resume_text)\n",
        "phone_number = extract_phone_number(resume_text)\n",
        "work_experience = extract_work_experience(resume_text)\n",
        "entities = extract_entities(resume_text)\n",
        "print(\"Name:\", name)\n",
        "print(\"Email:\", email)\n",
        "print(\"Phone Number:\", phone_number)\n",
        "print(\"Work Experience:\", work_experience)\n",
        "print(\"Entities:\", entities)"
      ],
      "metadata": {
        "id": "tZuoAyegpbLa",
        "outputId": "af8bb4e0-89fd-43e3-831d-dd9d50ee816a",
        "colab": {
          "base_uri": "https://localhost:8080/"
        }
      },
      "execution_count": 6,
      "outputs": [
        {
          "output_type": "stream",
          "name": "stdout",
          "text": [
            "Name: Economic Progress\n",
            "Email: kelly.depaul@depaul.ed\n",
            "Phone Number: 312.362.8437\n",
            "Work Experience: ['Kelly  DePaul  \\n  312.362.8437 | kelly.depaul@depaul.ed  u | linkedin.com/kelly depaul   \\n \\nEDUCATION   \\n \\nDePaul  University,  Chicago,  IL \\nBachelor  of Science in Busines s    Expected  June 2020  \\nMajor  in Accountancy   \\nGPA: 3.8/4.0; Major GPA: 4.0/4.0  \\nCPA Eligible: June 2016   \\n   Dean’s List, All quarters in attendance  \\n \\nRELEVANT  EXPERIENCE  \\n \\nABC  Company , Chicago , IL \\nFinance  Intern,  Compliance  Audit      March  2018 – May 2018 \\n\\uf0b7 Audited  affiliate  division testing 45 samples of employee business expenses in Columbus,  Ohio \\n\\uf0b7 Created  Excel  testing  template  for Sweepstakes  Program,   new area of audit \\n\\uf0b7 Completed  two additional  areas  of the audit,  saving   one week  of expenses  to be on-site \\n\\uf0b7 Assisted  financial  audit department  that was low on headcount   on planning  for next audit \\nXYZ  Firm,  LLP, Chicago,  IL \\nAudit  Intern,  Financial  Services       June 2017 – August  2017 \\n\\uf0b7 Led three engagements  starting  from planning to drafting audit report \\n\\uf0b7 Advised client’s  senior management  to correct 1.8%  error on calculation of return on investment \\n\\uf0b7 Assisted  an audit team  on the second  largest  client,   $33B  in assets  to meet audit deadline  \\n\\uf0b7 Trained  personnel  within  department  of 54 on Bloomberg  resulting  in better research efficiency   \\nCenter for Economic Progress ,   January  2016 – April 2017   \\nSeasonal Volunteer Tax Preparer  \\n\\uf0b7 Provided counseling and prepared tax returns for 50 clients  which resulted in average of 1.5% savings   \\n\\uf0b7 Completed 25 hours of formal training  in addition to taking on a mentoring role for new tax prepares  \\n \\nADDITIONAL  EXPERIENCE  \\n \\nRestaurant ABC , Chicago , IL \\nHost ess June 2016 – December 2017   \\n\\uf0b7 Efficiently assisted 100 clients daily; increasing to 300 -600 for weekend traffic at upscale restaurant in \\ndowntown Chicago, contributing to more than $50,000 in monthly sales  \\n\\uf0b7 Collaborated with servers and managers for an efficient rotation of clients throughout shift and attended \\nto special requests, such  as planning and managing  corporate events  \\n \\nACTIVITIES & VOLUNTEER WORK  \\n \\nDePaul Accounting Club , Member      September  2017 – Present  \\n\\uf0b7 Collaborated with recruiters to successfully plan and execute 10 career development and networkin g events  \\nPwC Elevate Leadership Program , Participant         July 2017   \\n\\uf0b7 Built relationships with professionals at PwC and gained in -depth knowledge of public accounting careers  \\n \\nSKILLS  \\nLanguage:  Fluent  in written and verbal Spanish  \\nTechnology  Skills:  Expe rienced  with Bloomberg,  Microsoft  Excel , Word  and PowerPoint']\n",
            "Entities: [('Kelly  DePaul  \\n  312.362.8437', 'PERSON'), ('DePaul  University', 'ORG'), ('IL', 'ORG'), ('GPA', 'ORG'), ('GPA', 'ORG'), ('ABC  Company', 'ORG'), ('IL \\nFinance', 'ORG'), ('Intern', 'ORG'), ('Created  Excel', 'ORG'), ('Sweepstakes  Program', 'ORG'), ('Completed', 'ORG'), ('Assisted', 'ORG'), ('XYZ  Firm', 'PERSON'), ('LLP', 'ORG'), ('IL \\nAudit  Intern', 'ORG'), ('Financial  Services', 'ORG'), ('Assisted', 'ORG'), ('Center for Economic Progress', 'ORG'), ('ABC', 'ORG'), ('IL \\nHost', 'ORG'), ('Efficiently', 'ORG'), ('Collaborated', 'ORG'), ('ACTIVITIES & VOLUNTEER', 'ORG'), ('DePaul Accounting Club', 'ORG'), ('Collaborated', 'ORG'), ('Elevate Leadership Program', 'ORG'), ('Expe', 'PERSON'), ('Bloomberg', 'PERSON'), ('Microsoft', 'ORG'), ('PowerPoint', 'ORG')]\n"
          ]
        }
      ]
    }
  ]
}